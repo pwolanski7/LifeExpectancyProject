{
 "cells": [
  {
   "cell_type": "code",
   "execution_count": 1,
   "metadata": {},
   "outputs": [],
   "source": [
    "# Dependencies and Setup\n",
    "%matplotlib inline\n",
    "import matplotlib.pyplot as plt\n",
    "import pandas as pd\n",
    "import numpy as np\n",
    "\n",
    "# Hide warning messages in notebook\n",
    "import warnings\n",
    "warnings.filterwarnings('ignore')"
   ]
  },
  {
   "cell_type": "code",
   "execution_count": 2,
   "metadata": {},
   "outputs": [],
   "source": [
    "#Files to Load\n",
    "lifeexpectancy_path = \"resources/L_E_per_country.csv\"\n",
    "electricity_path = \"resources/acess_to_elec_per_country.csv\"\n",
    "birthrate_path = \"resources/br_per_country.csv\"\n",
    "pollution_path = \"resources/co2_per_country.csv\"\n",
    "deathrate_path = \"resources/death_rate_per_country.csv\"\n",
    "gdp_path = \"resources/gdp_per_country.csv\"\n",
    "hospitalbeds_path = \"resources/hos_bed_per_country.csv\"\n",
    "deathsunder5_path = \"resources/u5d_per_country.csv\"\n",
    "undernourished_path = \"resources/under_nourished_per_country.csv\"\n",
    "unemployment_path = \"resources/unemp_per_country.csv\""
   ]
  },
  {
   "cell_type": "code",
   "execution_count": 3,
   "metadata": {},
   "outputs": [],
   "source": [
    "#Read all the files\n",
    "lifeexpectancy_path_df = pd.read_csv(lifeexpectancy_path)\n",
    "electricity_path_df = pd.read_csv(electricity_path)\n",
    "birthrate_path_df = pd.read_csv(birthrate_path)\n",
    "pollution_path_df = pd.read_csv(pollution_path)\n",
    "deathrate_path_df = pd.read_csv(deathrate_path)\n",
    "gdp_path_df = pd.read_csv(gdp_path)\n",
    "hospitalbeds_path_df = pd.read_csv(hospitalbeds_path)\n",
    "deathsunder5_path_df = pd.read_csv(deathsunder5_path)\n",
    "undernourished_path_df = pd.read_csv(undernourished_path)\n",
    "unemployment_path_df = pd.read_csv(unemployment_path)"
   ]
  },
  {
   "cell_type": "code",
   "execution_count": 4,
   "metadata": {},
   "outputs": [
    {
     "data": {
      "text/plain": [
       "1990    65.4384\n",
       "1991    65.6322\n",
       "1992    65.7915\n",
       "1993    65.9162\n",
       "1994    66.1261\n",
       "1995    66.3235\n",
       "1996    66.6174\n",
       "1997    66.9171\n",
       "1998     67.179\n",
       "1999    67.4073\n",
       "2000    67.6871\n",
       "2001    67.9839\n",
       "2002    68.2549\n",
       "2003      68.53\n",
       "2004    68.8688\n",
       "2005    69.1426\n",
       "2006    69.4821\n",
       "2007    69.8008\n",
       "2008    70.0893\n",
       "2009    70.4109\n",
       "2010    70.6875\n",
       "2011    70.9756\n",
       "2012    71.2189\n",
       "2013    71.4627\n",
       "2014    71.6955\n",
       "2015    71.8587\n",
       "2016    72.0587\n",
       "2017    72.2332\n",
       "2018        NaN\n",
       "Name: WLD, dtype: object"
      ]
     },
     "execution_count": 4,
     "metadata": {},
     "output_type": "execute_result"
    }
   ],
   "source": [
    "# Display the data table for preview\n",
    "a = lifeexpectancy_path_df.set_index('Country Code')\n",
    "a1 = a.loc['WLD','1990':]\n",
    "\n",
    "a1"
   ]
  },
  {
   "cell_type": "code",
   "execution_count": null,
   "metadata": {},
   "outputs": [],
   "source": []
  }
 ],
 "metadata": {
  "kernelspec": {
   "display_name": "Python 3",
   "language": "python",
   "name": "python3"
  },
  "language_info": {
   "codemirror_mode": {
    "name": "ipython",
    "version": 3
   },
   "file_extension": ".py",
   "mimetype": "text/x-python",
   "name": "python",
   "nbconvert_exporter": "python",
   "pygments_lexer": "ipython3",
   "version": "3.7.3"
  }
 },
 "nbformat": 4,
 "nbformat_minor": 2
}
